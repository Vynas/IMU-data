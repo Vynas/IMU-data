{
 "cells": [
  {
   "cell_type": "code",
   "execution_count": 175,
   "metadata": {
    "collapsed": true
   },
   "outputs": [],
   "source": [
    "%matplotlib inline\n",
    "import matplotlib.pyplot as plt\n",
    "import numpy as np\n",
    "import math"
   ]
  },
  {
   "cell_type": "code",
   "execution_count": 176,
   "metadata": {
    "collapsed": true
   },
   "outputs": [],
   "source": [
    "data = np.loadtxt(\"C6_yaw.txt\")"
   ]
  },
  {
   "cell_type": "code",
   "execution_count": 177,
   "metadata": {
    "collapsed": false
   },
   "outputs": [
    {
     "name": "stdout",
     "output_type": "stream",
     "text": [
      "[-66.642 -66.64  -66.637 ..., -33.694 -33.675 -33.649]\n"
     ]
    }
   ],
   "source": [
    "print(data)"
   ]
  },
  {
   "cell_type": "code",
   "execution_count": 178,
   "metadata": {
    "collapsed": false
   },
   "outputs": [
    {
     "name": "stdout",
     "output_type": "stream",
     "text": [
      "[ 1.  1.  1. ...,  1.  1.  1.]\n"
     ]
    }
   ],
   "source": [
    "time = np.ones_like(data)\n",
    "print(time)"
   ]
  },
  {
   "cell_type": "code",
   "execution_count": 179,
   "metadata": {
    "collapsed": false
   },
   "outputs": [
    {
     "name": "stdout",
     "output_type": "stream",
     "text": [
      "(137369,)\n"
     ]
    }
   ],
   "source": [
    "print(np.shape(time))"
   ]
  },
  {
   "cell_type": "code",
   "execution_count": 197,
   "metadata": {
    "collapsed": false
   },
   "outputs": [
    {
     "name": "stdout",
     "output_type": "stream",
     "text": [
      "137368\n"
     ]
    }
   ],
   "source": [
    "time = np.ones_like(data)\n",
    "k = 0\n",
    "j = 1/41\n",
    "while k < 137369:\n",
    "    time[k] = time[k]*k*j/60/20\n",
    "    w = k\n",
    "    k+=1\n",
    "print(w)"
   ]
  },
  {
   "cell_type": "code",
   "execution_count": 198,
   "metadata": {
    "collapsed": false
   },
   "outputs": [
    {
     "name": "stdout",
     "output_type": "stream",
     "text": [
      "[  0.00000000e+00   2.03252033e-05   4.06504065e-05 ...,   2.79199187e+00\n",
      "   2.79201220e+00   2.79203252e+00]\n"
     ]
    }
   ],
   "source": [
    "print(time)"
   ]
  },
  {
   "cell_type": "code",
   "execution_count": 199,
   "metadata": {
    "collapsed": false
   },
   "outputs": [
    {
     "data": {
      "text/plain": [
       "[<matplotlib.lines.Line2D at 0x195f0d1a9e8>]"
      ]
     },
     "execution_count": 199,
     "metadata": {},
     "output_type": "execute_result"
    },
    {
     "data": {
      "image/png": "[encoded data removed]",
      "text/plain": [
       "<matplotlib.figure.Figure at 0x195f3658a20>"
      ]
     },
     "metadata": {},
     "output_type": "display_data"
    }
   ],
   "source": [
    "plt.plot(time,data)"
   ]
  },
  {
   "cell_type": "code",
   "execution_count": 200,
   "metadata": {
    "collapsed": false
   },
   "outputs": [
    {
     "name": "stdout",
     "output_type": "stream",
     "text": [
      "[  -66.642   -66.64    -66.637 ...,  2126.306  2126.325  2126.351]\n"
     ]
    }
   ],
   "source": [
    "i=0\n",
    "n=0\n",
    "wait = 0\n",
    "waiting_time = 0\n",
    "data_continuous = np.ones_like(data)\n",
    "while n < 137369:\n",
    "    if wait == 1:\n",
    "        waiting_time+=1\n",
    "    if waiting_time == 10000:\n",
    "        wait = 0\n",
    "    if n == 10600:\n",
    "        wait = 1\n",
    "        waiting_time = 0 \n",
    "    if data[n-1] > 0 and data[n] < 0 and wait == 0:\n",
    "        i+=1\n",
    "        wait = 1\n",
    "        waiting_time = 0\n",
    "    data_continuous[n] = data[n]+i*360\n",
    "    n+=1\n",
    "print(data_continuous)"
   ]
  },
  {
   "cell_type": "code",
   "execution_count": 201,
   "metadata": {
    "collapsed": false
   },
   "outputs": [],
   "source": [
    "data_continuous[101607] = 1765\n",
    "data_continuous[107893] = 1765"
   ]
  },
  {
   "cell_type": "code",
   "execution_count": 202,
   "metadata": {
    "collapsed": false
   },
   "outputs": [
    {
     "data": {
      "text/plain": [
       "[<matplotlib.lines.Line2D at 0x195f0da7ef0>]"
      ]
     },
     "execution_count": 202,
     "metadata": {},
     "output_type": "execute_result"
    },
    {
     "data": {
      "image/png": "[encoded data removed]",
      "text/plain": [
       "<matplotlib.figure.Figure at 0x195f0cd1f60>"
      ]
     },
     "metadata": {},
     "output_type": "display_data"
    }
   ],
   "source": [
    "plt.plot(time, data_continuous)"
   ]
  },
  {
   "cell_type": "code",
   "execution_count": 203,
   "metadata": {
    "collapsed": false
   },
   "outputs": [
    {
     "name": "stdout",
     "output_type": "stream",
     "text": [
      "[  -66.642   -66.64    -66.637 ...,  2126.306  2126.325  2126.351]\n"
     ]
    }
   ],
   "source": [
    "print(data_continuous)"
   ]
  },
  {
   "cell_type": "code",
   "execution_count": 204,
   "metadata": {
    "collapsed": false
   },
   "outputs": [
    {
     "name": "stdout",
     "output_type": "stream",
     "text": [
      "-66.64\n"
     ]
    }
   ],
   "source": [
    "print(data[1])"
   ]
  },
  {
   "cell_type": "code",
   "execution_count": 205,
   "metadata": {
    "collapsed": true
   },
   "outputs": [],
   "source": [
    "import scipy.optimize"
   ]
  },
  {
   "cell_type": "code",
   "execution_count": 206,
   "metadata": {
    "collapsed": false
   },
   "outputs": [
    {
     "name": "stdout",
     "output_type": "stream",
     "text": [
      "137369\n"
     ]
    }
   ],
   "source": [
    "i = 0\n",
    "while i < 137369:\n",
    "    if np.isnan(data_continuous[i]) == True:\n",
    "        print(i)\n",
    "    i+=1\n",
    "print(i)"
   ]
  },
  {
   "cell_type": "code",
   "execution_count": 207,
   "metadata": {
    "collapsed": false
   },
   "outputs": [
    {
     "data": {
      "text/plain": [
       "False"
      ]
     },
     "execution_count": 207,
     "metadata": {},
     "output_type": "execute_result"
    }
   ],
   "source": [
    "#np.isnan(data_continuous).any()\n",
    "#np.isnan(time).any()\n",
    "\n",
    "#np.isinf(data_continuous).any()\n",
    "np.isinf(time).any()"
   ]
  },
  {
   "cell_type": "code",
   "execution_count": 208,
   "metadata": {
    "collapsed": false
   },
   "outputs": [],
   "source": [
    "def drift(x, a,b, c, d,e):\n",
    "    return a*np.exp(d*x)+e*x**b+c"
   ]
  },
  {
   "cell_type": "code",
   "execution_count": 209,
   "metadata": {
    "collapsed": false
   },
   "outputs": [
    {
     "name": "stderr",
     "output_type": "stream",
     "text": [
      "C:\\Users\\mjordan\\AppData\\Local\\Continuum\\Anaconda3\\lib\\site-packages\\ipykernel\\__main__.py:2: RuntimeWarning: overflow encountered in power\n",
      "  from ipykernel import kernelapp as app\n",
      "C:\\Users\\mjordan\\AppData\\Local\\Continuum\\Anaconda3\\lib\\site-packages\\ipykernel\\__main__.py:2: RuntimeWarning: overflow encountered in multiply\n",
      "  from ipykernel import kernelapp as app\n"
     ]
    },
    {
     "name": "stdout",
     "output_type": "stream",
     "text": [
      "(array([  2.52052507e+03,   5.22119169e-01,  -2.88689286e+03,\n",
      "        -2.44432587e+00,   3.05077007e+03]), array([[  6.78187883e+01,  -1.21069909e-02,  -1.01713185e+02,\n",
      "         -1.15137521e-02,   9.69264067e+01],\n",
      "       [ -1.21069909e-02,   2.47278964e-06,   1.88500073e-02,\n",
      "          3.96307622e-06,  -1.85254882e-02],\n",
      "       [ -1.01713185e+02,   1.88500073e-02,   1.56185513e+02,\n",
      "          1.76598977e-02,  -1.49396257e+02],\n",
      "       [ -1.15137521e-02,   3.96307622e-06,   1.76598977e-02,\n",
      "          2.24918987e-05,  -2.16960244e-02],\n",
      "       [  9.69264067e+01,  -1.85254882e-02,  -1.49396257e+02,\n",
      "         -2.16960244e-02,   1.44191689e+02]]))\n"
     ]
    }
   ],
   "source": [
    "r = scipy.optimize.curve_fit(drift, time, data_continuous)\n",
    "print(r)"
   ]
  },
  {
   "cell_type": "code",
   "execution_count": 210,
   "metadata": {
    "collapsed": false
   },
   "outputs": [
    {
     "name": "stdout",
     "output_type": "stream",
     "text": [
      "2520.52507208 0.522119168913 -2886.89286255 -2.44432586756 3050.77006672\n"
     ]
    }
   ],
   "source": [
    "(a,b, c, d,e) = r[0]\n",
    "print(a,b,c, d,e)"
   ]
  },
  {
   "cell_type": "code",
   "execution_count": 211,
   "metadata": {
    "collapsed": false
   },
   "outputs": [
    {
     "data": {
      "text/plain": [
       "<matplotlib.legend.Legend at 0x195f3bdfa90>"
      ]
     },
     "execution_count": 211,
     "metadata": {},
     "output_type": "execute_result"
    },
    {
     "data": {
      "image/png": "[encoded data removed]",
      "text/plain": [
       "<matplotlib.figure.Figure at 0x195f0dbf9e8>"
      ]
     },
     "metadata": {},
     "output_type": "display_data"
    }
   ],
   "source": [
    "plt.plot(time, data_continuous, linestyle='' , marker='o', color='blue', label='data')\n",
    "plt.plot(time, drift(time, a, b, c, d,e), linestyle='-', color='red' , label='model fit')\n",
    "plt.xlabel('x')\n",
    "plt.ylabel('y')\n",
    "plt.legend(numpoints=1, loc='upper left')\n"
   ]
  },
  {
   "cell_type": "code",
   "execution_count": 212,
   "metadata": {
    "collapsed": false
   },
   "outputs": [],
   "source": [
    "data_no_drift = data_continuous - drift(time,a,b,c,d,e)"
   ]
  },
  {
   "cell_type": "code",
   "execution_count": 213,
   "metadata": {
    "collapsed": false
   },
   "outputs": [
    {
     "data": {
      "text/plain": [
       "[<matplotlib.lines.Line2D at 0x195f6821c88>]"
      ]
     },
     "execution_count": 213,
     "metadata": {},
     "output_type": "execute_result"
    },
    {
     "data": {
      "image/png": "[encoded data removed]",
      "text/plain": [
       "<matplotlib.figure.Figure at 0x195f0d6e6a0>"
      ]
     },
     "metadata": {},
     "output_type": "display_data"
    }
   ],
   "source": [
    "plt.plot(time,data_no_drift)"
   ]
  },
  {
   "cell_type": "code",
   "execution_count": null,
   "metadata": {
    "collapsed": true
   },
   "outputs": [],
   "source": []
  }
 ],
 "metadata": {
  "anaconda-cloud": {},
  "kernelspec": {
   "display_name": "Python 3",
   "language": "python",
   "name": "python3"
  },
  "language_info": {
   "codemirror_mode": {
    "name": "ipython",
    "version": 3
   },
   "file_extension": ".py",
   "mimetype": "text/x-python",
   "name": "python",
   "nbconvert_exporter": "python",
   "pygments_lexer": "ipython3",
   "version": "3.6.0"
  }
 },
 "nbformat": 4,
 "nbformat_minor": 0
}
