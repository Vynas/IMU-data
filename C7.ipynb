{
 "cells": [
  {
   "cell_type": "code",
   "execution_count": 1,
   "metadata": {
    "collapsed": true
   },
   "outputs": [],
   "source": [
    "%matplotlib inline\n",
    "import matplotlib.pyplot as plt\n",
    "import numpy as np\n",
    "import math"
   ]
  },
  {
   "cell_type": "code",
   "execution_count": 2,
   "metadata": {
    "collapsed": true
   },
   "outputs": [],
   "source": [
    "data = np.loadtxt(\"C7_yaw.txt\")"
   ]
  },
  {
   "cell_type": "code",
   "execution_count": 3,
   "metadata": {
    "collapsed": false
   },
   "outputs": [
    {
     "name": "stdout",
     "output_type": "stream",
     "text": [
      "[-68.333 -68.337 -68.338 ...,  62.1    63.349  64.117]\n"
     ]
    }
   ],
   "source": [
    "print(data)"
   ]
  },
  {
   "cell_type": "code",
   "execution_count": 4,
   "metadata": {
    "collapsed": false
   },
   "outputs": [
    {
     "name": "stdout",
     "output_type": "stream",
     "text": [
      "[ 1.  1.  1. ...,  1.  1.  1.]\n"
     ]
    }
   ],
   "source": [
    "time = np.ones_like(data)\n",
    "print(time)"
   ]
  },
  {
   "cell_type": "code",
   "execution_count": 5,
   "metadata": {
    "collapsed": false
   },
   "outputs": [
    {
     "name": "stdout",
     "output_type": "stream",
     "text": [
      "(187498,)\n"
     ]
    }
   ],
   "source": [
    "print(np.shape(time))"
   ]
  },
  {
   "cell_type": "code",
   "execution_count": 52,
   "metadata": {
    "collapsed": false
   },
   "outputs": [
    {
     "name": "stdout",
     "output_type": "stream",
     "text": [
      "187497\n"
     ]
    }
   ],
   "source": [
    "time = np.ones_like(data)\n",
    "k = 0\n",
    "j = 1/41\n",
    "while k < 187498:\n",
    "    time[k] = time[k]*k*j/60/60\n",
    "    w = k\n",
    "    k+=1\n",
    "print(w)"
   ]
  },
  {
   "cell_type": "code",
   "execution_count": 53,
   "metadata": {
    "collapsed": false
   },
   "outputs": [
    {
     "name": "stdout",
     "output_type": "stream",
     "text": [
      "[  0.00000000e+00   6.77506775e-06   1.35501355e-05 ...,   1.27029133e+00\n",
      "   1.27029810e+00   1.27030488e+00]\n"
     ]
    }
   ],
   "source": [
    "print(time)"
   ]
  },
  {
   "cell_type": "code",
   "execution_count": 54,
   "metadata": {
    "collapsed": false
   },
   "outputs": [
    {
     "data": {
      "text/plain": [
       "[<matplotlib.lines.Line2D at 0x254940571d0>]"
      ]
     },
     "execution_count": 54,
     "metadata": {},
     "output_type": "execute_result"
    },
    {
     "data": {
      "image/png": "[encoded data removed]",
      "text/plain": [
       "<matplotlib.figure.Figure at 0x25493fef9e8>"
      ]
     },
     "metadata": {},
     "output_type": "display_data"
    }
   ],
   "source": [
    "plt.plot(time,data)"
   ]
  },
  {
   "cell_type": "code",
   "execution_count": 68,
   "metadata": {
    "collapsed": false
   },
   "outputs": [
    {
     "name": "stdout",
     "output_type": "stream",
     "text": [
      "[-68.333 -68.337 -68.338 ...,  62.1    63.349  64.117]\n"
     ]
    }
   ],
   "source": [
    "i=0\n",
    "n=0\n",
    "wait = 1\n",
    "waiting_time = 0\n",
    "data_continuous = np.ones_like(data)\n",
    "while n < 187498:\n",
    "    if wait == 1:\n",
    "        waiting_time+=1\n",
    "    if waiting_time == 10000:\n",
    "        wait = 0\n",
    "    if n == 10600:\n",
    "        wait = 1\n",
    "        waiting_time = 0 \n",
    "    if n == 40000:\n",
    "        wait = 1\n",
    "        waiting_time = 0 \n",
    "    if n == 50000:\n",
    "        wait = 1\n",
    "        waiting_time = 0\n",
    "    if n == 60000:\n",
    "        wait = 1\n",
    "        waiting_time = 0 \n",
    "    if n == 120000:\n",
    "        wait = 1\n",
    "        waiting_time = 0 \n",
    "    if n == 130000:\n",
    "        wait = 1\n",
    "        waiting_time = 0 \n",
    "    if n == 160000:\n",
    "        wait = 1\n",
    "        waiting_time = 0 \n",
    "    if n == 170000:\n",
    "        wait = 1\n",
    "        waiting_time = 0 \n",
    "    if n == 180000:\n",
    "        wait = 1\n",
    "        waiting_time = 0 \n",
    "    if data[n-1] > 0 and data[n] < 0 and wait == 0:\n",
    "        i+=1\n",
    "        wait = 1\n",
    "        waiting_time = 0\n",
    "    data_continuous[n] = data[n]+i*360\n",
    "    n+=1\n",
    "print(data_continuous)"
   ]
  },
  {
   "cell_type": "code",
   "execution_count": 69,
   "metadata": {
    "collapsed": false
   },
   "outputs": [
    {
     "data": {
      "text/plain": [
       "[<matplotlib.lines.Line2D at 0x25495be60f0>]"
      ]
     },
     "execution_count": 69,
     "metadata": {},
     "output_type": "execute_result"
    },
    {
     "data": {
      "image/png": "[encoded data removed]",
      "text/plain": [
       "<matplotlib.figure.Figure at 0x25495b85c18>"
      ]
     },
     "metadata": {},
     "output_type": "display_data"
    }
   ],
   "source": [
    "plt.plot(time, data_continuous)"
   ]
  },
  {
   "cell_type": "code",
   "execution_count": 70,
   "metadata": {
    "collapsed": false
   },
   "outputs": [
    {
     "name": "stdout",
     "output_type": "stream",
     "text": [
      "[-68.333 -68.337 -68.338 ...,  62.1    63.349  64.117]\n"
     ]
    }
   ],
   "source": [
    "print(data_continuous)"
   ]
  },
  {
   "cell_type": "code",
   "execution_count": 71,
   "metadata": {
    "collapsed": false
   },
   "outputs": [
    {
     "name": "stdout",
     "output_type": "stream",
     "text": [
      "-68.337\n"
     ]
    }
   ],
   "source": [
    "print(data[1])"
   ]
  },
  {
   "cell_type": "code",
   "execution_count": 72,
   "metadata": {
    "collapsed": true
   },
   "outputs": [],
   "source": [
    "import scipy.optimize"
   ]
  },
  {
   "cell_type": "code",
   "execution_count": 73,
   "metadata": {
    "collapsed": false
   },
   "outputs": [
    {
     "name": "stdout",
     "output_type": "stream",
     "text": [
      "137369\n"
     ]
    }
   ],
   "source": [
    "i = 0\n",
    "while i < 137369:\n",
    "    if np.isnan(data_continuous[i]) == True:\n",
    "        print(i)\n",
    "    i+=1\n",
    "print(i)"
   ]
  },
  {
   "cell_type": "code",
   "execution_count": 74,
   "metadata": {
    "collapsed": false
   },
   "outputs": [
    {
     "data": {
      "text/plain": [
       "False"
      ]
     },
     "execution_count": 74,
     "metadata": {},
     "output_type": "execute_result"
    }
   ],
   "source": [
    "#np.isnan(data_continuous).any()\n",
    "#np.isnan(time).any()\n",
    "\n",
    "#np.isinf(data_continuous).any()\n",
    "np.isinf(time).any()"
   ]
  },
  {
   "cell_type": "code",
   "execution_count": 75,
   "metadata": {
    "collapsed": false
   },
   "outputs": [],
   "source": [
    "def drift(x, a,b, c, d,e):\n",
    "    return a*np.exp(d*x)+e*x**b+c"
   ]
  },
  {
   "cell_type": "code",
   "execution_count": 76,
   "metadata": {
    "collapsed": false
   },
   "outputs": [
    {
     "name": "stderr",
     "output_type": "stream",
     "text": [
      "C:\\Users\\mjordan\\AppData\\Local\\Continuum\\Anaconda3\\lib\\site-packages\\ipykernel\\__main__.py:2: RuntimeWarning: divide by zero encountered in power\n",
      "  from ipykernel import kernelapp as app\n",
      "C:\\Users\\mjordan\\AppData\\Local\\Continuum\\Anaconda3\\lib\\site-packages\\ipykernel\\__main__.py:2: RuntimeWarning: overflow encountered in power\n",
      "  from ipykernel import kernelapp as app\n",
      "C:\\Users\\mjordan\\AppData\\Local\\Continuum\\Anaconda3\\lib\\site-packages\\ipykernel\\__main__.py:2: RuntimeWarning: overflow encountered in multiply\n",
      "  from ipykernel import kernelapp as app\n"
     ]
    },
    {
     "name": "stdout",
     "output_type": "stream",
     "text": [
      "(array([ -1.81678692e+00,   4.18134930e-08,  -8.02940097e+00,\n",
      "         1.00493423e+00,  -6.06306573e+00]), array([[  3.53667844e+00,   2.42425851e-02,  -3.53613458e+00,\n",
      "          1.06455457e+00,  -7.33215731e-01],\n",
      "       [  2.42425851e-02,   5.07014643e-04,  -2.42448669e-02,\n",
      "          6.62905471e-03,  -8.47481835e-03],\n",
      "       [ -3.53613458e+00,  -2.42448669e-02,   1.98606728e+03,\n",
      "         -1.06440592e+00,  -1.98179867e+03],\n",
      "       [  1.06455457e+00,   6.62905471e-03,  -1.06440592e+00,\n",
      "          3.23689437e-01,  -2.08429647e-01],\n",
      "       [ -7.33215731e-01,  -8.47481835e-03,  -1.98179867e+03,\n",
      "         -2.08429647e-01,   1.98274492e+03]]))\n"
     ]
    }
   ],
   "source": [
    "r = scipy.optimize.curve_fit(drift, time, data_continuous)\n",
    "print(r)"
   ]
  },
  {
   "cell_type": "code",
   "execution_count": 77,
   "metadata": {
    "collapsed": false
   },
   "outputs": [
    {
     "name": "stdout",
     "output_type": "stream",
     "text": [
      "-1.81678691504 4.18134929732e-08 -8.02940096549 1.00493423176 -6.06306573001\n"
     ]
    }
   ],
   "source": [
    "(a,b, c, d,e) = r[0]\n",
    "print(a,b,c, d,e)"
   ]
  },
  {
   "cell_type": "code",
   "execution_count": 78,
   "metadata": {
    "collapsed": false
   },
   "outputs": [
    {
     "data": {
      "text/plain": [
       "<matplotlib.legend.Legend at 0x25495c86358>"
      ]
     },
     "execution_count": 78,
     "metadata": {},
     "output_type": "execute_result"
    },
    {
     "data": {
      "image/png": "[encoded data removed]",
      "text/plain": [
       "<matplotlib.figure.Figure at 0x25495be6dd8>"
      ]
     },
     "metadata": {},
     "output_type": "display_data"
    }
   ],
   "source": [
    "plt.plot(time, data_continuous, linestyle='' , marker='o', color='blue', label='data')\n",
    "plt.plot(time, drift(time, a, b, c, d,e), linestyle='-', color='red' , label='model fit')\n",
    "plt.xlabel('x')\n",
    "plt.ylabel('y')\n",
    "plt.legend(numpoints=1, loc='upper left')\n"
   ]
  },
  {
   "cell_type": "code",
   "execution_count": 79,
   "metadata": {
    "collapsed": false
   },
   "outputs": [],
   "source": [
    "data_no_drift = data_continuous - drift(time,a,b,c,d,e)"
   ]
  },
  {
   "cell_type": "code",
   "execution_count": 80,
   "metadata": {
    "collapsed": false
   },
   "outputs": [
    {
     "data": {
      "text/plain": [
       "[<matplotlib.lines.Line2D at 0x25496f6e1d0>]"
      ]
     },
     "execution_count": 80,
     "metadata": {},
     "output_type": "execute_result"
    },
    {
     "data": {
      "image/png": "[encoded data removed]",
      "text/plain": [
       "<matplotlib.figure.Figure at 0x25495acf6a0>"
      ]
     },
     "metadata": {},
     "output_type": "display_data"
    }
   ],
   "source": [
    "plt.plot(time,data_no_drift)"
   ]
  },
  {
   "cell_type": "code",
   "execution_count": null,
   "metadata": {
    "collapsed": true
   },
   "outputs": [],
   "source": []
  }
 ],
 "metadata": {
  "anaconda-cloud": {},
  "kernelspec": {
   "display_name": "Python 3",
   "language": "python",
   "name": "python3"
  },
  "language_info": {
   "codemirror_mode": {
    "name": "ipython",
    "version": 3
   },
   "file_extension": ".py",
   "mimetype": "text/x-python",
   "name": "python",
   "nbconvert_exporter": "python",
   "pygments_lexer": "ipython3",
   "version": "3.6.0"
  }
 },
 "nbformat": 4,
 "nbformat_minor": 0
}
